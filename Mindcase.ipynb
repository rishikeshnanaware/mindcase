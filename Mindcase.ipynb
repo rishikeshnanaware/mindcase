{
 "cells": [
  {
   "cell_type": "code",
   "execution_count": 3,
   "id": "d914edc1",
   "metadata": {},
   "outputs": [
    {
     "name": "stdout",
     "output_type": "stream",
     "text": [
      "Where did taxis explode?\n",
      "Answer: Merchant� House\n"
     ]
    }
   ],
   "source": [
    "import os\n",
    "import fitz  # PyMuPDF for PDF text extraction\n",
    "from transformers import pipeline\n",
    "\n",
    "nlp = pipeline(\"question-answering\", model=\"distilbert-base-cased-distilled-squad\", tokenizer=\"distilbert-base-cased\")\n",
    "\n",
    "def extract_text_from_pdf(pdf_path):\n",
    "    doc = fitz.open(pdf_path)\n",
    "    text = \"\"\n",
    "    for page in doc:\n",
    "        text += page.get_text()\n",
    "    doc.close()\n",
    "    return text\n",
    "\n",
    "def query_pdf_with_llm(pdf_text, question):\n",
    "    result = nlp(question=question, context=pdf_text)\n",
    "    return result[\"answer\"]\n",
    "\n",
    "if __name__ == \"__main__\":\n",
    "    # Example usage\n",
    "    pdf_file_path = \"example.pdf\"\n",
    "    query = input()\n",
    "\n",
    "    # Extract text from the PDF\n",
    "    pdf_text = extract_text_from_pdf(pdf_file_path)\n",
    "\n",
    "    # Query the LLM\n",
    "    answer = query_pdf_with_llm(pdf_text, query)\n",
    "    print(f\"Answer: {answer}\")\n"
   ]
  },
  {
   "cell_type": "code",
   "execution_count": null,
   "id": "dd15ba4f",
   "metadata": {},
   "outputs": [],
   "source": []
  }
 ],
 "metadata": {
  "kernelspec": {
   "display_name": "Python 3 (ipykernel)",
   "language": "python",
   "name": "python3"
  },
  "language_info": {
   "codemirror_mode": {
    "name": "ipython",
    "version": 3
   },
   "file_extension": ".py",
   "mimetype": "text/x-python",
   "name": "python",
   "nbconvert_exporter": "python",
   "pygments_lexer": "ipython3",
   "version": "3.7.16"
  }
 },
 "nbformat": 4,
 "nbformat_minor": 5
}
